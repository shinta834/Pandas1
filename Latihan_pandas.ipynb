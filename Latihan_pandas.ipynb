{
 "metadata": {
  "language_info": {
   "codemirror_mode": {
    "name": "ipython",
    "version": 3
   },
   "file_extension": ".py",
   "mimetype": "text/x-python",
   "name": "python",
   "nbconvert_exporter": "python",
   "pygments_lexer": "ipython3",
   "version": "3.9.1-final"
  },
  "orig_nbformat": 2,
  "kernelspec": {
   "name": "python3",
   "display_name": "Python 3.9.1 64-bit",
   "metadata": {
    "interpreter": {
     "hash": "ee5cc6fef2d70a7e71ee3826687cbd150f18158e0b1eef11d4f4f92bb920e304"
    }
   }
  }
 },
 "nbformat": 4,
 "nbformat_minor": 2,
 "cells": [
  {
   "cell_type": "code",
   "execution_count": 2,
   "metadata": {},
   "outputs": [],
   "source": [
    "## Using Pandas ##\n",
    "import numpy as np\n",
    "import pandas as pd"
   ]
  },
  {
   "cell_type": "code",
   "execution_count": 53,
   "metadata": {},
   "outputs": [],
   "source": [
    "# Creating Series #\n",
    "# from a python list\n",
    "labels = ['a','b','c','d']\n",
    "my_list = [9,8,7,6]"
   ]
  },
  {
   "cell_type": "code",
   "execution_count": 54,
   "metadata": {},
   "outputs": [
    {
     "output_type": "execute_result",
     "data": {
      "text/plain": [
       "0    9\n",
       "1    8\n",
       "2    7\n",
       "3    6\n",
       "dtype: int64"
      ]
     },
     "metadata": {},
     "execution_count": 54
    }
   ],
   "source": [
    "pd.Series(data=my_list)"
   ]
  },
  {
   "cell_type": "code",
   "execution_count": 55,
   "metadata": {},
   "outputs": [
    {
     "output_type": "execute_result",
     "data": {
      "text/plain": [
       "a    9\n",
       "b    8\n",
       "c    7\n",
       "d    6\n",
       "dtype: int64"
      ]
     },
     "metadata": {},
     "execution_count": 55
    }
   ],
   "source": [
    "pd.Series(data=my_list, index=labels)"
   ]
  },
  {
   "cell_type": "code",
   "execution_count": 56,
   "metadata": {},
   "outputs": [
    {
     "output_type": "execute_result",
     "data": {
      "text/plain": [
       "a    9\n",
       "b    8\n",
       "c    7\n",
       "d    6\n",
       "dtype: int64"
      ]
     },
     "metadata": {},
     "execution_count": 56
    }
   ],
   "source": [
    "pd.Series(my_list,labels)"
   ]
  },
  {
   "cell_type": "code",
   "execution_count": 57,
   "metadata": {},
   "outputs": [
    {
     "output_type": "execute_result",
     "data": {
      "text/plain": [
       "0    100\n",
       "1    200\n",
       "2    300\n",
       "3    400\n",
       "4    500\n",
       "dtype: int32"
      ]
     },
     "metadata": {},
     "execution_count": 57
    }
   ],
   "source": [
    "# from a numpy array\n",
    "arr = np.array([100,200,300,400,500])\n",
    "pd.Series(arr)"
   ]
  },
  {
   "cell_type": "code",
   "execution_count": 58,
   "metadata": {},
   "outputs": [
    {
     "output_type": "execute_result",
     "data": {
      "text/plain": [
       "a    100\n",
       "b    200\n",
       "c    300\n",
       "d    400\n",
       "e    500\n",
       "dtype: int32"
      ]
     },
     "metadata": {},
     "execution_count": 58
    }
   ],
   "source": [
    "labels1=['a','b','c','d','e']\n",
    "pd.Series(arr,labels1)"
   ]
  },
  {
   "cell_type": "code",
   "execution_count": 63,
   "metadata": {},
   "outputs": [
    {
     "output_type": "execute_result",
     "data": {
      "text/plain": [
       "x    80\n",
       "y    85\n",
       "dtype: int64"
      ]
     },
     "metadata": {},
     "execution_count": 63
    }
   ],
   "source": [
    "# from a dictionary\n",
    "d = {'x':80,'y':85}\n",
    "pd.Series(d)"
   ]
  },
  {
   "cell_type": "code",
   "execution_count": 64,
   "metadata": {},
   "outputs": [],
   "source": [
    "# Creating a DataFrame #\n",
    "# From lists\n",
    "a = [i for i in range (12,16)]\n",
    "b = [i for i in range (17,21)]\n",
    "c = [i for i in range (22,26)]"
   ]
  },
  {
   "cell_type": "code",
   "execution_count": 65,
   "metadata": {},
   "outputs": [
    {
     "output_type": "execute_result",
     "data": {
      "text/plain": [
       "    w   x   y   z\n",
       "a  12  13  14  15\n",
       "b  17  18  19  20\n",
       "c  22  23  24  25"
      ],
      "text/html": "<div>\n<style scoped>\n    .dataframe tbody tr th:only-of-type {\n        vertical-align: middle;\n    }\n\n    .dataframe tbody tr th {\n        vertical-align: top;\n    }\n\n    .dataframe thead th {\n        text-align: right;\n    }\n</style>\n<table border=\"1\" class=\"dataframe\">\n  <thead>\n    <tr style=\"text-align: right;\">\n      <th></th>\n      <th>w</th>\n      <th>x</th>\n      <th>y</th>\n      <th>z</th>\n    </tr>\n  </thead>\n  <tbody>\n    <tr>\n      <th>a</th>\n      <td>12</td>\n      <td>13</td>\n      <td>14</td>\n      <td>15</td>\n    </tr>\n    <tr>\n      <th>b</th>\n      <td>17</td>\n      <td>18</td>\n      <td>19</td>\n      <td>20</td>\n    </tr>\n    <tr>\n      <th>c</th>\n      <td>22</td>\n      <td>23</td>\n      <td>24</td>\n      <td>25</td>\n    </tr>\n  </tbody>\n</table>\n</div>"
     },
     "metadata": {},
     "execution_count": 65
    }
   ],
   "source": [
    "pd.DataFrame(data=[a,b,c],\n",
    "             index= 'a b c'.split(),\n",
    "             columns= 'w x y z'.split())"
   ]
  },
  {
   "cell_type": "code",
   "execution_count": 66,
   "metadata": {},
   "outputs": [
    {
     "output_type": "execute_result",
     "data": {
      "text/plain": [
       "    a   b   c\n",
       "w  12  17  22\n",
       "x  13  18  23\n",
       "y  14  19  24\n",
       "z  15  20  25"
      ],
      "text/html": "<div>\n<style scoped>\n    .dataframe tbody tr th:only-of-type {\n        vertical-align: middle;\n    }\n\n    .dataframe tbody tr th {\n        vertical-align: top;\n    }\n\n    .dataframe thead th {\n        text-align: right;\n    }\n</style>\n<table border=\"1\" class=\"dataframe\">\n  <thead>\n    <tr style=\"text-align: right;\">\n      <th></th>\n      <th>a</th>\n      <th>b</th>\n      <th>c</th>\n    </tr>\n  </thead>\n  <tbody>\n    <tr>\n      <th>w</th>\n      <td>12</td>\n      <td>17</td>\n      <td>22</td>\n    </tr>\n    <tr>\n      <th>x</th>\n      <td>13</td>\n      <td>18</td>\n      <td>23</td>\n    </tr>\n    <tr>\n      <th>y</th>\n      <td>14</td>\n      <td>19</td>\n      <td>24</td>\n    </tr>\n    <tr>\n      <th>z</th>\n      <td>15</td>\n      <td>20</td>\n      <td>25</td>\n    </tr>\n  </tbody>\n</table>\n</div>"
     },
     "metadata": {},
     "execution_count": 66
    }
   ],
   "source": [
    "pd.DataFrame(data=list(zip(a,b,c)),\n",
    "             index= 'w x y z'.split(),\n",
    "             columns= 'a b c'.split())"
   ]
  },
  {
   "cell_type": "code",
   "execution_count": 67,
   "metadata": {},
   "outputs": [
    {
     "output_type": "execute_result",
     "data": {
      "text/plain": [
       "    c1  c2  c3  c4  c5  c6  c7  c8  c9  c10\n",
       "b1   1   2   3   4   5   6   7   8   9   10\n",
       "b2  11  12  13  14  15  16  17  18  19   20"
      ],
      "text/html": "<div>\n<style scoped>\n    .dataframe tbody tr th:only-of-type {\n        vertical-align: middle;\n    }\n\n    .dataframe tbody tr th {\n        vertical-align: top;\n    }\n\n    .dataframe thead th {\n        text-align: right;\n    }\n</style>\n<table border=\"1\" class=\"dataframe\">\n  <thead>\n    <tr style=\"text-align: right;\">\n      <th></th>\n      <th>c1</th>\n      <th>c2</th>\n      <th>c3</th>\n      <th>c4</th>\n      <th>c5</th>\n      <th>c6</th>\n      <th>c7</th>\n      <th>c8</th>\n      <th>c9</th>\n      <th>c10</th>\n    </tr>\n  </thead>\n  <tbody>\n    <tr>\n      <th>b1</th>\n      <td>1</td>\n      <td>2</td>\n      <td>3</td>\n      <td>4</td>\n      <td>5</td>\n      <td>6</td>\n      <td>7</td>\n      <td>8</td>\n      <td>9</td>\n      <td>10</td>\n    </tr>\n    <tr>\n      <th>b2</th>\n      <td>11</td>\n      <td>12</td>\n      <td>13</td>\n      <td>14</td>\n      <td>15</td>\n      <td>16</td>\n      <td>17</td>\n      <td>18</td>\n      <td>19</td>\n      <td>20</td>\n    </tr>\n  </tbody>\n</table>\n</div>"
     },
     "metadata": {},
     "execution_count": 67
    }
   ],
   "source": [
    "# from a list\n",
    "my_list=[[1,2,3,4,5,6,7,8,9,10],\n",
    "         [11,12,13,14,15,16,17,18,19,20]]\n",
    "pd.DataFrame(my_list,\n",
    "             index= 'b1 b2'.split(),\n",
    "             columns= 'c1 c2 c3 c4 c5 c6 c7 c8 c9 c10'.split())"
   ]
  },
  {
   "cell_type": "code",
   "execution_count": 68,
   "metadata": {},
   "outputs": [
    {
     "output_type": "execute_result",
     "data": {
      "text/plain": [
       "     b1  b2\n",
       "c1    1  11\n",
       "c2    2  12\n",
       "c3    3  13\n",
       "c4    4  14\n",
       "c5    5  15\n",
       "c6    6  16\n",
       "c7    7  17\n",
       "c8    8  18\n",
       "c9    9  19\n",
       "c10  10  20"
      ],
      "text/html": "<div>\n<style scoped>\n    .dataframe tbody tr th:only-of-type {\n        vertical-align: middle;\n    }\n\n    .dataframe tbody tr th {\n        vertical-align: top;\n    }\n\n    .dataframe thead th {\n        text-align: right;\n    }\n</style>\n<table border=\"1\" class=\"dataframe\">\n  <thead>\n    <tr style=\"text-align: right;\">\n      <th></th>\n      <th>b1</th>\n      <th>b2</th>\n    </tr>\n  </thead>\n  <tbody>\n    <tr>\n      <th>c1</th>\n      <td>1</td>\n      <td>11</td>\n    </tr>\n    <tr>\n      <th>c2</th>\n      <td>2</td>\n      <td>12</td>\n    </tr>\n    <tr>\n      <th>c3</th>\n      <td>3</td>\n      <td>13</td>\n    </tr>\n    <tr>\n      <th>c4</th>\n      <td>4</td>\n      <td>14</td>\n    </tr>\n    <tr>\n      <th>c5</th>\n      <td>5</td>\n      <td>15</td>\n    </tr>\n    <tr>\n      <th>c6</th>\n      <td>6</td>\n      <td>16</td>\n    </tr>\n    <tr>\n      <th>c7</th>\n      <td>7</td>\n      <td>17</td>\n    </tr>\n    <tr>\n      <th>c8</th>\n      <td>8</td>\n      <td>18</td>\n    </tr>\n    <tr>\n      <th>c9</th>\n      <td>9</td>\n      <td>19</td>\n    </tr>\n    <tr>\n      <th>c10</th>\n      <td>10</td>\n      <td>20</td>\n    </tr>\n  </tbody>\n</table>\n</div>"
     },
     "metadata": {},
     "execution_count": 68
    }
   ],
   "source": [
    "## di transpose\n",
    "pd.DataFrame(my_list,\n",
    "             index= 'b1 b2'.split(),\n",
    "             columns= 'c1 c2 c3 c4 c5 c6 c7 c8 c9 c10'.split()).T"
   ]
  },
  {
   "cell_type": "code",
   "execution_count": 15,
   "metadata": {},
   "outputs": [],
   "source": [
    "# from an array\n",
    "from numpy.random import randn\n",
    "np.random.seed(10)"
   ]
  },
  {
   "cell_type": "code",
   "execution_count": 69,
   "metadata": {},
   "outputs": [
    {
     "output_type": "execute_result",
     "data": {
      "text/plain": [
       "          C1        C2        C3\n",
       "B1 -1.977728 -1.743372  0.266070\n",
       "B2  2.384967  1.123691  1.672622\n",
       "B3  0.099149  1.397996 -0.271248\n",
       "B4  0.613204 -0.267317 -0.549309"
      ],
      "text/html": "<div>\n<style scoped>\n    .dataframe tbody tr th:only-of-type {\n        vertical-align: middle;\n    }\n\n    .dataframe tbody tr th {\n        vertical-align: top;\n    }\n\n    .dataframe thead th {\n        text-align: right;\n    }\n</style>\n<table border=\"1\" class=\"dataframe\">\n  <thead>\n    <tr style=\"text-align: right;\">\n      <th></th>\n      <th>C1</th>\n      <th>C2</th>\n      <th>C3</th>\n    </tr>\n  </thead>\n  <tbody>\n    <tr>\n      <th>B1</th>\n      <td>-1.977728</td>\n      <td>-1.743372</td>\n      <td>0.266070</td>\n    </tr>\n    <tr>\n      <th>B2</th>\n      <td>2.384967</td>\n      <td>1.123691</td>\n      <td>1.672622</td>\n    </tr>\n    <tr>\n      <th>B3</th>\n      <td>0.099149</td>\n      <td>1.397996</td>\n      <td>-0.271248</td>\n    </tr>\n    <tr>\n      <th>B4</th>\n      <td>0.613204</td>\n      <td>-0.267317</td>\n      <td>-0.549309</td>\n    </tr>\n  </tbody>\n</table>\n</div>"
     },
     "metadata": {},
     "execution_count": 69
    }
   ],
   "source": [
    "df = pd.DataFrame(randn(4,3),index='B1 B2 B3 B4'.split(),columns='C1 C2 C3'.split())\n",
    "df"
   ]
  },
  {
   "cell_type": "code",
   "execution_count": 70,
   "metadata": {},
   "outputs": [
    {
     "output_type": "execute_result",
     "data": {
      "text/plain": [
       "    c1  c2  c3\n",
       "b1  10  40  70\n",
       "b2  20  50  80\n",
       "b3  30  60  90"
      ],
      "text/html": "<div>\n<style scoped>\n    .dataframe tbody tr th:only-of-type {\n        vertical-align: middle;\n    }\n\n    .dataframe tbody tr th {\n        vertical-align: top;\n    }\n\n    .dataframe thead th {\n        text-align: right;\n    }\n</style>\n<table border=\"1\" class=\"dataframe\">\n  <thead>\n    <tr style=\"text-align: right;\">\n      <th></th>\n      <th>c1</th>\n      <th>c2</th>\n      <th>c3</th>\n    </tr>\n  </thead>\n  <tbody>\n    <tr>\n      <th>b1</th>\n      <td>10</td>\n      <td>40</td>\n      <td>70</td>\n    </tr>\n    <tr>\n      <th>b2</th>\n      <td>20</td>\n      <td>50</td>\n      <td>80</td>\n    </tr>\n    <tr>\n      <th>b3</th>\n      <td>30</td>\n      <td>60</td>\n      <td>90</td>\n    </tr>\n  </tbody>\n</table>\n</div>"
     },
     "metadata": {},
     "execution_count": 70
    }
   ],
   "source": [
    "# from a dictionary\n",
    "my_d={'c1':[10,20,30],\n",
    "      'c2':[40,50,60],\n",
    "      'c3':[70,80,90]}\n",
    "pd.DataFrame(my_d, index='b1 b2 b3'.split())"
   ]
  },
  {
   "cell_type": "code",
   "execution_count": 87,
   "metadata": {},
   "outputs": [
    {
     "output_type": "execute_result",
     "data": {
      "text/plain": [
       "                 C1        C2        C3\n",
       "B1        -1.977728 -1.743372  0.266070\n",
       "B2         2.384967  1.123691  1.672622\n",
       "B3         0.099149  1.397996 -0.271248\n",
       "B4         0.613204 -0.267317 -0.549309\n",
       "new_baris  0.100000  0.200000  0.300000"
      ],
      "text/html": "<div>\n<style scoped>\n    .dataframe tbody tr th:only-of-type {\n        vertical-align: middle;\n    }\n\n    .dataframe tbody tr th {\n        vertical-align: top;\n    }\n\n    .dataframe thead th {\n        text-align: right;\n    }\n</style>\n<table border=\"1\" class=\"dataframe\">\n  <thead>\n    <tr style=\"text-align: right;\">\n      <th></th>\n      <th>C1</th>\n      <th>C2</th>\n      <th>C3</th>\n    </tr>\n  </thead>\n  <tbody>\n    <tr>\n      <th>B1</th>\n      <td>-1.977728</td>\n      <td>-1.743372</td>\n      <td>0.266070</td>\n    </tr>\n    <tr>\n      <th>B2</th>\n      <td>2.384967</td>\n      <td>1.123691</td>\n      <td>1.672622</td>\n    </tr>\n    <tr>\n      <th>B3</th>\n      <td>0.099149</td>\n      <td>1.397996</td>\n      <td>-0.271248</td>\n    </tr>\n    <tr>\n      <th>B4</th>\n      <td>0.613204</td>\n      <td>-0.267317</td>\n      <td>-0.549309</td>\n    </tr>\n    <tr>\n      <th>new_baris</th>\n      <td>0.100000</td>\n      <td>0.200000</td>\n      <td>0.300000</td>\n    </tr>\n  </tbody>\n</table>\n</div>"
     },
     "metadata": {},
     "execution_count": 87
    }
   ],
   "source": [
    "## Data Frame Manipulation ##\n",
    "# add new row #\n",
    "df.loc['new_baris']=[0.1,0.2,0.3]\n",
    "df"
   ]
  },
  {
   "cell_type": "code",
   "execution_count": 88,
   "metadata": {},
   "outputs": [
    {
     "output_type": "execute_result",
     "data": {
      "text/plain": [
       "                 C1        C2        C3     TOTAL\n",
       "B1        -1.977728 -1.743372  0.266070 -3.455030\n",
       "B2         2.384967  1.123691  1.672622  5.181281\n",
       "B3         0.099149  1.397996 -0.271248  1.225898\n",
       "B4         0.613204 -0.267317 -0.549309 -0.203422\n",
       "new_baris  0.100000  0.200000  0.300000  0.600000"
      ],
      "text/html": "<div>\n<style scoped>\n    .dataframe tbody tr th:only-of-type {\n        vertical-align: middle;\n    }\n\n    .dataframe tbody tr th {\n        vertical-align: top;\n    }\n\n    .dataframe thead th {\n        text-align: right;\n    }\n</style>\n<table border=\"1\" class=\"dataframe\">\n  <thead>\n    <tr style=\"text-align: right;\">\n      <th></th>\n      <th>C1</th>\n      <th>C2</th>\n      <th>C3</th>\n      <th>TOTAL</th>\n    </tr>\n  </thead>\n  <tbody>\n    <tr>\n      <th>B1</th>\n      <td>-1.977728</td>\n      <td>-1.743372</td>\n      <td>0.266070</td>\n      <td>-3.455030</td>\n    </tr>\n    <tr>\n      <th>B2</th>\n      <td>2.384967</td>\n      <td>1.123691</td>\n      <td>1.672622</td>\n      <td>5.181281</td>\n    </tr>\n    <tr>\n      <th>B3</th>\n      <td>0.099149</td>\n      <td>1.397996</td>\n      <td>-0.271248</td>\n      <td>1.225898</td>\n    </tr>\n    <tr>\n      <th>B4</th>\n      <td>0.613204</td>\n      <td>-0.267317</td>\n      <td>-0.549309</td>\n      <td>-0.203422</td>\n    </tr>\n    <tr>\n      <th>new_baris</th>\n      <td>0.100000</td>\n      <td>0.200000</td>\n      <td>0.300000</td>\n      <td>0.600000</td>\n    </tr>\n  </tbody>\n</table>\n</div>"
     },
     "metadata": {},
     "execution_count": 88
    }
   ],
   "source": [
    "# add new column #\n",
    "df['TOTAL'] = df['C1'] + df['C2'] + df['C3']\n",
    "df"
   ]
  },
  {
   "cell_type": "code",
   "execution_count": 89,
   "metadata": {},
   "outputs": [
    {
     "output_type": "execute_result",
     "data": {
      "text/plain": [
       "                 C1        C2        C3  NEW     TOTAL\n",
       "B1        -1.977728 -1.743372  0.266070    1 -3.455030\n",
       "B2         2.384967  1.123691  1.672622    2  5.181281\n",
       "B3         0.099149  1.397996 -0.271248    3  1.225898\n",
       "B4         0.613204 -0.267317 -0.549309    4 -0.203422\n",
       "new_baris  0.100000  0.200000  0.300000    5  0.600000"
      ],
      "text/html": "<div>\n<style scoped>\n    .dataframe tbody tr th:only-of-type {\n        vertical-align: middle;\n    }\n\n    .dataframe tbody tr th {\n        vertical-align: top;\n    }\n\n    .dataframe thead th {\n        text-align: right;\n    }\n</style>\n<table border=\"1\" class=\"dataframe\">\n  <thead>\n    <tr style=\"text-align: right;\">\n      <th></th>\n      <th>C1</th>\n      <th>C2</th>\n      <th>C3</th>\n      <th>NEW</th>\n      <th>TOTAL</th>\n    </tr>\n  </thead>\n  <tbody>\n    <tr>\n      <th>B1</th>\n      <td>-1.977728</td>\n      <td>-1.743372</td>\n      <td>0.266070</td>\n      <td>1</td>\n      <td>-3.455030</td>\n    </tr>\n    <tr>\n      <th>B2</th>\n      <td>2.384967</td>\n      <td>1.123691</td>\n      <td>1.672622</td>\n      <td>2</td>\n      <td>5.181281</td>\n    </tr>\n    <tr>\n      <th>B3</th>\n      <td>0.099149</td>\n      <td>1.397996</td>\n      <td>-0.271248</td>\n      <td>3</td>\n      <td>1.225898</td>\n    </tr>\n    <tr>\n      <th>B4</th>\n      <td>0.613204</td>\n      <td>-0.267317</td>\n      <td>-0.549309</td>\n      <td>4</td>\n      <td>-0.203422</td>\n    </tr>\n    <tr>\n      <th>new_baris</th>\n      <td>0.100000</td>\n      <td>0.200000</td>\n      <td>0.300000</td>\n      <td>5</td>\n      <td>0.600000</td>\n    </tr>\n  </tbody>\n</table>\n</div>"
     },
     "metadata": {},
     "execution_count": 89
    }
   ],
   "source": [
    "# insert new column #\n",
    "df.insert(3,'NEW',[1,2,3,4,5])\n",
    "df"
   ]
  },
  {
   "cell_type": "code",
   "execution_count": 90,
   "metadata": {},
   "outputs": [
    {
     "output_type": "execute_result",
     "data": {
      "text/plain": [
       "                 C1        C2        C3\n",
       "B1        -1.977728 -1.743372  0.266070\n",
       "B2         2.384967  1.123691  1.672622\n",
       "B3         0.099149  1.397996 -0.271248\n",
       "B4         0.613204 -0.267317 -0.549309\n",
       "new_baris  0.100000  0.200000  0.300000"
      ],
      "text/html": "<div>\n<style scoped>\n    .dataframe tbody tr th:only-of-type {\n        vertical-align: middle;\n    }\n\n    .dataframe tbody tr th {\n        vertical-align: top;\n    }\n\n    .dataframe thead th {\n        text-align: right;\n    }\n</style>\n<table border=\"1\" class=\"dataframe\">\n  <thead>\n    <tr style=\"text-align: right;\">\n      <th></th>\n      <th>C1</th>\n      <th>C2</th>\n      <th>C3</th>\n    </tr>\n  </thead>\n  <tbody>\n    <tr>\n      <th>B1</th>\n      <td>-1.977728</td>\n      <td>-1.743372</td>\n      <td>0.266070</td>\n    </tr>\n    <tr>\n      <th>B2</th>\n      <td>2.384967</td>\n      <td>1.123691</td>\n      <td>1.672622</td>\n    </tr>\n    <tr>\n      <th>B3</th>\n      <td>0.099149</td>\n      <td>1.397996</td>\n      <td>-0.271248</td>\n    </tr>\n    <tr>\n      <th>B4</th>\n      <td>0.613204</td>\n      <td>-0.267317</td>\n      <td>-0.549309</td>\n    </tr>\n    <tr>\n      <th>new_baris</th>\n      <td>0.100000</td>\n      <td>0.200000</td>\n      <td>0.300000</td>\n    </tr>\n  </tbody>\n</table>\n</div>"
     },
     "metadata": {},
     "execution_count": 90
    }
   ],
   "source": [
    "# Removing columns without inplace\n",
    "df.drop(['TOTAL','NEW'],axis=1)"
   ]
  },
  {
   "cell_type": "code",
   "execution_count": 91,
   "metadata": {},
   "outputs": [
    {
     "output_type": "execute_result",
     "data": {
      "text/plain": [
       "                 C1        C2        C3  NEW     TOTAL\n",
       "B1        -1.977728 -1.743372  0.266070    1 -3.455030\n",
       "B2         2.384967  1.123691  1.672622    2  5.181281\n",
       "B3         0.099149  1.397996 -0.271248    3  1.225898\n",
       "B4         0.613204 -0.267317 -0.549309    4 -0.203422\n",
       "new_baris  0.100000  0.200000  0.300000    5  0.600000"
      ],
      "text/html": "<div>\n<style scoped>\n    .dataframe tbody tr th:only-of-type {\n        vertical-align: middle;\n    }\n\n    .dataframe tbody tr th {\n        vertical-align: top;\n    }\n\n    .dataframe thead th {\n        text-align: right;\n    }\n</style>\n<table border=\"1\" class=\"dataframe\">\n  <thead>\n    <tr style=\"text-align: right;\">\n      <th></th>\n      <th>C1</th>\n      <th>C2</th>\n      <th>C3</th>\n      <th>NEW</th>\n      <th>TOTAL</th>\n    </tr>\n  </thead>\n  <tbody>\n    <tr>\n      <th>B1</th>\n      <td>-1.977728</td>\n      <td>-1.743372</td>\n      <td>0.266070</td>\n      <td>1</td>\n      <td>-3.455030</td>\n    </tr>\n    <tr>\n      <th>B2</th>\n      <td>2.384967</td>\n      <td>1.123691</td>\n      <td>1.672622</td>\n      <td>2</td>\n      <td>5.181281</td>\n    </tr>\n    <tr>\n      <th>B3</th>\n      <td>0.099149</td>\n      <td>1.397996</td>\n      <td>-0.271248</td>\n      <td>3</td>\n      <td>1.225898</td>\n    </tr>\n    <tr>\n      <th>B4</th>\n      <td>0.613204</td>\n      <td>-0.267317</td>\n      <td>-0.549309</td>\n      <td>4</td>\n      <td>-0.203422</td>\n    </tr>\n    <tr>\n      <th>new_baris</th>\n      <td>0.100000</td>\n      <td>0.200000</td>\n      <td>0.300000</td>\n      <td>5</td>\n      <td>0.600000</td>\n    </tr>\n  </tbody>\n</table>\n</div>"
     },
     "metadata": {},
     "execution_count": 91
    }
   ],
   "source": [
    "df"
   ]
  },
  {
   "cell_type": "code",
   "execution_count": 92,
   "metadata": {},
   "outputs": [],
   "source": [
    "# Removing columns with inplace\n",
    "df.drop(['TOTAL','NEW'],axis=1,inplace=True)"
   ]
  },
  {
   "cell_type": "code",
   "execution_count": 93,
   "metadata": {},
   "outputs": [
    {
     "output_type": "execute_result",
     "data": {
      "text/plain": [
       "                 C1        C2        C3\n",
       "B1        -1.977728 -1.743372  0.266070\n",
       "B2         2.384967  1.123691  1.672622\n",
       "B3         0.099149  1.397996 -0.271248\n",
       "B4         0.613204 -0.267317 -0.549309\n",
       "new_baris  0.100000  0.200000  0.300000"
      ],
      "text/html": "<div>\n<style scoped>\n    .dataframe tbody tr th:only-of-type {\n        vertical-align: middle;\n    }\n\n    .dataframe tbody tr th {\n        vertical-align: top;\n    }\n\n    .dataframe thead th {\n        text-align: right;\n    }\n</style>\n<table border=\"1\" class=\"dataframe\">\n  <thead>\n    <tr style=\"text-align: right;\">\n      <th></th>\n      <th>C1</th>\n      <th>C2</th>\n      <th>C3</th>\n    </tr>\n  </thead>\n  <tbody>\n    <tr>\n      <th>B1</th>\n      <td>-1.977728</td>\n      <td>-1.743372</td>\n      <td>0.266070</td>\n    </tr>\n    <tr>\n      <th>B2</th>\n      <td>2.384967</td>\n      <td>1.123691</td>\n      <td>1.672622</td>\n    </tr>\n    <tr>\n      <th>B3</th>\n      <td>0.099149</td>\n      <td>1.397996</td>\n      <td>-0.271248</td>\n    </tr>\n    <tr>\n      <th>B4</th>\n      <td>0.613204</td>\n      <td>-0.267317</td>\n      <td>-0.549309</td>\n    </tr>\n    <tr>\n      <th>new_baris</th>\n      <td>0.100000</td>\n      <td>0.200000</td>\n      <td>0.300000</td>\n    </tr>\n  </tbody>\n</table>\n</div>"
     },
     "metadata": {},
     "execution_count": 93
    }
   ],
   "source": [
    "df"
   ]
  },
  {
   "cell_type": "code",
   "execution_count": 94,
   "metadata": {},
   "outputs": [
    {
     "output_type": "execute_result",
     "data": {
      "text/plain": [
       "          C1        C2        C3\n",
       "B1 -1.977728 -1.743372  0.266070\n",
       "B2  2.384967  1.123691  1.672622\n",
       "B3  0.099149  1.397996 -0.271248\n",
       "B4  0.613204 -0.267317 -0.549309"
      ],
      "text/html": "<div>\n<style scoped>\n    .dataframe tbody tr th:only-of-type {\n        vertical-align: middle;\n    }\n\n    .dataframe tbody tr th {\n        vertical-align: top;\n    }\n\n    .dataframe thead th {\n        text-align: right;\n    }\n</style>\n<table border=\"1\" class=\"dataframe\">\n  <thead>\n    <tr style=\"text-align: right;\">\n      <th></th>\n      <th>C1</th>\n      <th>C2</th>\n      <th>C3</th>\n    </tr>\n  </thead>\n  <tbody>\n    <tr>\n      <th>B1</th>\n      <td>-1.977728</td>\n      <td>-1.743372</td>\n      <td>0.266070</td>\n    </tr>\n    <tr>\n      <th>B2</th>\n      <td>2.384967</td>\n      <td>1.123691</td>\n      <td>1.672622</td>\n    </tr>\n    <tr>\n      <th>B3</th>\n      <td>0.099149</td>\n      <td>1.397996</td>\n      <td>-0.271248</td>\n    </tr>\n    <tr>\n      <th>B4</th>\n      <td>0.613204</td>\n      <td>-0.267317</td>\n      <td>-0.549309</td>\n    </tr>\n  </tbody>\n</table>\n</div>"
     },
     "metadata": {},
     "execution_count": 94
    }
   ],
   "source": [
    "# Removing rows\n",
    "df.drop('new_baris',axis=0)"
   ]
  },
  {
   "cell_type": "code",
   "execution_count": 95,
   "metadata": {},
   "outputs": [
    {
     "output_type": "execute_result",
     "data": {
      "text/plain": [
       "       index        C1        C2        C3\n",
       "0         B1 -1.977728 -1.743372  0.266070\n",
       "1         B2  2.384967  1.123691  1.672622\n",
       "2         B3  0.099149  1.397996 -0.271248\n",
       "3         B4  0.613204 -0.267317 -0.549309\n",
       "4  new_baris  0.100000  0.200000  0.300000"
      ],
      "text/html": "<div>\n<style scoped>\n    .dataframe tbody tr th:only-of-type {\n        vertical-align: middle;\n    }\n\n    .dataframe tbody tr th {\n        vertical-align: top;\n    }\n\n    .dataframe thead th {\n        text-align: right;\n    }\n</style>\n<table border=\"1\" class=\"dataframe\">\n  <thead>\n    <tr style=\"text-align: right;\">\n      <th></th>\n      <th>index</th>\n      <th>C1</th>\n      <th>C2</th>\n      <th>C3</th>\n    </tr>\n  </thead>\n  <tbody>\n    <tr>\n      <th>0</th>\n      <td>B1</td>\n      <td>-1.977728</td>\n      <td>-1.743372</td>\n      <td>0.266070</td>\n    </tr>\n    <tr>\n      <th>1</th>\n      <td>B2</td>\n      <td>2.384967</td>\n      <td>1.123691</td>\n      <td>1.672622</td>\n    </tr>\n    <tr>\n      <th>2</th>\n      <td>B3</td>\n      <td>0.099149</td>\n      <td>1.397996</td>\n      <td>-0.271248</td>\n    </tr>\n    <tr>\n      <th>3</th>\n      <td>B4</td>\n      <td>0.613204</td>\n      <td>-0.267317</td>\n      <td>-0.549309</td>\n    </tr>\n    <tr>\n      <th>4</th>\n      <td>new_baris</td>\n      <td>0.100000</td>\n      <td>0.200000</td>\n      <td>0.300000</td>\n    </tr>\n  </tbody>\n</table>\n</div>"
     },
     "metadata": {},
     "execution_count": 95
    }
   ],
   "source": [
    "df.reset_index() "
   ]
  },
  {
   "cell_type": "code",
   "execution_count": 96,
   "metadata": {},
   "outputs": [
    {
     "output_type": "execute_result",
     "data": {
      "text/plain": [
       "['JKT', 'SUB', 'BDO', 'MLG', 'DPS']"
      ]
     },
     "metadata": {},
     "execution_count": 96
    }
   ],
   "source": [
    "new_index = 'JKT SUB BDO MLG DPS'.split()\n",
    "new_index"
   ]
  },
  {
   "cell_type": "code",
   "execution_count": 97,
   "metadata": {},
   "outputs": [
    {
     "output_type": "execute_result",
     "data": {
      "text/plain": [
       "                 C1        C2        C3 Kota\n",
       "B1        -1.977728 -1.743372  0.266070  JKT\n",
       "B2         2.384967  1.123691  1.672622  SUB\n",
       "B3         0.099149  1.397996 -0.271248  BDO\n",
       "B4         0.613204 -0.267317 -0.549309  MLG\n",
       "new_baris  0.100000  0.200000  0.300000  DPS"
      ],
      "text/html": "<div>\n<style scoped>\n    .dataframe tbody tr th:only-of-type {\n        vertical-align: middle;\n    }\n\n    .dataframe tbody tr th {\n        vertical-align: top;\n    }\n\n    .dataframe thead th {\n        text-align: right;\n    }\n</style>\n<table border=\"1\" class=\"dataframe\">\n  <thead>\n    <tr style=\"text-align: right;\">\n      <th></th>\n      <th>C1</th>\n      <th>C2</th>\n      <th>C3</th>\n      <th>Kota</th>\n    </tr>\n  </thead>\n  <tbody>\n    <tr>\n      <th>B1</th>\n      <td>-1.977728</td>\n      <td>-1.743372</td>\n      <td>0.266070</td>\n      <td>JKT</td>\n    </tr>\n    <tr>\n      <th>B2</th>\n      <td>2.384967</td>\n      <td>1.123691</td>\n      <td>1.672622</td>\n      <td>SUB</td>\n    </tr>\n    <tr>\n      <th>B3</th>\n      <td>0.099149</td>\n      <td>1.397996</td>\n      <td>-0.271248</td>\n      <td>BDO</td>\n    </tr>\n    <tr>\n      <th>B4</th>\n      <td>0.613204</td>\n      <td>-0.267317</td>\n      <td>-0.549309</td>\n      <td>MLG</td>\n    </tr>\n    <tr>\n      <th>new_baris</th>\n      <td>0.100000</td>\n      <td>0.200000</td>\n      <td>0.300000</td>\n      <td>DPS</td>\n    </tr>\n  </tbody>\n</table>\n</div>"
     },
     "metadata": {},
     "execution_count": 97
    }
   ],
   "source": [
    "df['Kota'] = new_index\n",
    "df"
   ]
  },
  {
   "cell_type": "code",
   "execution_count": 98,
   "metadata": {},
   "outputs": [
    {
     "output_type": "execute_result",
     "data": {
      "text/plain": [
       "            C1        C2        C3\n",
       "Kota                              \n",
       "JKT  -1.977728 -1.743372  0.266070\n",
       "SUB   2.384967  1.123691  1.672622\n",
       "BDO   0.099149  1.397996 -0.271248\n",
       "MLG   0.613204 -0.267317 -0.549309\n",
       "DPS   0.100000  0.200000  0.300000"
      ],
      "text/html": "<div>\n<style scoped>\n    .dataframe tbody tr th:only-of-type {\n        vertical-align: middle;\n    }\n\n    .dataframe tbody tr th {\n        vertical-align: top;\n    }\n\n    .dataframe thead th {\n        text-align: right;\n    }\n</style>\n<table border=\"1\" class=\"dataframe\">\n  <thead>\n    <tr style=\"text-align: right;\">\n      <th></th>\n      <th>C1</th>\n      <th>C2</th>\n      <th>C3</th>\n    </tr>\n    <tr>\n      <th>Kota</th>\n      <th></th>\n      <th></th>\n      <th></th>\n    </tr>\n  </thead>\n  <tbody>\n    <tr>\n      <th>JKT</th>\n      <td>-1.977728</td>\n      <td>-1.743372</td>\n      <td>0.266070</td>\n    </tr>\n    <tr>\n      <th>SUB</th>\n      <td>2.384967</td>\n      <td>1.123691</td>\n      <td>1.672622</td>\n    </tr>\n    <tr>\n      <th>BDO</th>\n      <td>0.099149</td>\n      <td>1.397996</td>\n      <td>-0.271248</td>\n    </tr>\n    <tr>\n      <th>MLG</th>\n      <td>0.613204</td>\n      <td>-0.267317</td>\n      <td>-0.549309</td>\n    </tr>\n    <tr>\n      <th>DPS</th>\n      <td>0.100000</td>\n      <td>0.200000</td>\n      <td>0.300000</td>\n    </tr>\n  </tbody>\n</table>\n</div>"
     },
     "metadata": {},
     "execution_count": 98
    }
   ],
   "source": [
    "df.set_index('Kota')"
   ]
  },
  {
   "cell_type": "code",
   "execution_count": 99,
   "metadata": {},
   "outputs": [
    {
     "output_type": "execute_result",
     "data": {
      "text/plain": [
       "                 C1        C2        C3 Kota\n",
       "B1        -1.977728 -1.743372  0.266070  JKT\n",
       "B2         2.384967  1.123691  1.672622  SUB\n",
       "B3         0.099149  1.397996 -0.271248  BDO\n",
       "B4         0.613204 -0.267317 -0.549309  MLG\n",
       "new_baris  0.100000  0.200000  0.300000  DPS"
      ],
      "text/html": "<div>\n<style scoped>\n    .dataframe tbody tr th:only-of-type {\n        vertical-align: middle;\n    }\n\n    .dataframe tbody tr th {\n        vertical-align: top;\n    }\n\n    .dataframe thead th {\n        text-align: right;\n    }\n</style>\n<table border=\"1\" class=\"dataframe\">\n  <thead>\n    <tr style=\"text-align: right;\">\n      <th></th>\n      <th>C1</th>\n      <th>C2</th>\n      <th>C3</th>\n      <th>Kota</th>\n    </tr>\n  </thead>\n  <tbody>\n    <tr>\n      <th>B1</th>\n      <td>-1.977728</td>\n      <td>-1.743372</td>\n      <td>0.266070</td>\n      <td>JKT</td>\n    </tr>\n    <tr>\n      <th>B2</th>\n      <td>2.384967</td>\n      <td>1.123691</td>\n      <td>1.672622</td>\n      <td>SUB</td>\n    </tr>\n    <tr>\n      <th>B3</th>\n      <td>0.099149</td>\n      <td>1.397996</td>\n      <td>-0.271248</td>\n      <td>BDO</td>\n    </tr>\n    <tr>\n      <th>B4</th>\n      <td>0.613204</td>\n      <td>-0.267317</td>\n      <td>-0.549309</td>\n      <td>MLG</td>\n    </tr>\n    <tr>\n      <th>new_baris</th>\n      <td>0.100000</td>\n      <td>0.200000</td>\n      <td>0.300000</td>\n      <td>DPS</td>\n    </tr>\n  </tbody>\n</table>\n</div>"
     },
     "metadata": {},
     "execution_count": 99
    }
   ],
   "source": [
    "df"
   ]
  },
  {
   "cell_type": "code",
   "execution_count": 100,
   "metadata": {},
   "outputs": [],
   "source": [
    "df['Kota'] = new_index\n",
    "df.set_index('Kota', inplace=True)"
   ]
  },
  {
   "cell_type": "code",
   "execution_count": 101,
   "metadata": {},
   "outputs": [
    {
     "output_type": "execute_result",
     "data": {
      "text/plain": [
       "            C1        C2        C3\n",
       "Kota                              \n",
       "JKT  -1.977728 -1.743372  0.266070\n",
       "SUB   2.384967  1.123691  1.672622\n",
       "BDO   0.099149  1.397996 -0.271248\n",
       "MLG   0.613204 -0.267317 -0.549309\n",
       "DPS   0.100000  0.200000  0.300000"
      ],
      "text/html": "<div>\n<style scoped>\n    .dataframe tbody tr th:only-of-type {\n        vertical-align: middle;\n    }\n\n    .dataframe tbody tr th {\n        vertical-align: top;\n    }\n\n    .dataframe thead th {\n        text-align: right;\n    }\n</style>\n<table border=\"1\" class=\"dataframe\">\n  <thead>\n    <tr style=\"text-align: right;\">\n      <th></th>\n      <th>C1</th>\n      <th>C2</th>\n      <th>C3</th>\n    </tr>\n    <tr>\n      <th>Kota</th>\n      <th></th>\n      <th></th>\n      <th></th>\n    </tr>\n  </thead>\n  <tbody>\n    <tr>\n      <th>JKT</th>\n      <td>-1.977728</td>\n      <td>-1.743372</td>\n      <td>0.266070</td>\n    </tr>\n    <tr>\n      <th>SUB</th>\n      <td>2.384967</td>\n      <td>1.123691</td>\n      <td>1.672622</td>\n    </tr>\n    <tr>\n      <th>BDO</th>\n      <td>0.099149</td>\n      <td>1.397996</td>\n      <td>-0.271248</td>\n    </tr>\n    <tr>\n      <th>MLG</th>\n      <td>0.613204</td>\n      <td>-0.267317</td>\n      <td>-0.549309</td>\n    </tr>\n    <tr>\n      <th>DPS</th>\n      <td>0.100000</td>\n      <td>0.200000</td>\n      <td>0.300000</td>\n    </tr>\n  </tbody>\n</table>\n</div>"
     },
     "metadata": {},
     "execution_count": 101
    }
   ],
   "source": [
    "df"
   ]
  },
  {
   "cell_type": "code",
   "execution_count": null,
   "metadata": {},
   "outputs": [],
   "source": []
  }
 ]
}